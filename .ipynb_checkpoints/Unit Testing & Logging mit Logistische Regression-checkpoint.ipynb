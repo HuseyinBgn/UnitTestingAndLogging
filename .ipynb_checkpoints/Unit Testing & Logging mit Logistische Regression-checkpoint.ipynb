{
 "cells": [
  {
   "cell_type": "markdown",
   "metadata": {},
   "source": [
    "# Unit Test & Logging mit Logistische Regression\n",
    "\n",
    "In diesem Projekt werden wir mit Fake-Daten zu Werbung arbeiten, die aufzeigen, ob ein Nutzer auf eine Werbeanzeige auf einer Webseite einer Firma geklickt hat oder nicht. Wir werden versuchen ein Modell zu erstellen, das anhand von Nutzereigenschaften vorhersagt, ob dieser auf die Werbung klicken wird oder nicht.\n",
    "\n",
    "## Libraries installieren & importieren"
   ]
  },
  {
   "cell_type": "code",
   "execution_count": 5,
   "metadata": {},
   "outputs": [],
   "source": [
    "!pip install pandas\n",
    "!pip install numpy\n",
    "!pip install matplotlib\n",
    "!pip install seaborn\n",
    "!pip install scikit-learn\n",
    "!pip install sklearn\n",
    "!pip install unittest\n",
    "\n",
    "import pandas as pd\n",
    "import numpy as np\n",
    "import matplotlib.pyplot as plt\n",
    "import seaborn as sns\n",
    "import unittest\n",
    "from functools import wraps\n",
    "from sklearn.linear_model import LogisticRegression\n",
    "from sklearn.linear_model import LogisticRegression\n",
    "from sklearn.metrics import classification_report\n",
    "from sklearn.metrics import confusion_matrix\n",
    "%matplotlib inline"
   ]
  },
  {
   "cell_type": "markdown",
   "metadata": {},
   "source": [
    "## Die Daten"
   ]
  },
  {
   "cell_type": "code",
   "execution_count": 61,
   "metadata": {},
   "outputs": [],
   "source": [
    "ad_data = pd.read_csv('Advertising.csv')"
   ]
  },
  {
   "cell_type": "markdown",
   "metadata": {},
   "source": [
    "## Die my_logger und my_timer Methoden"
   ]
  },
  {
   "cell_type": "code",
   "execution_count": 62,
   "metadata": {},
   "outputs": [],
   "source": [
    "def my_logger(orig_func):\n",
    "    import logging\n",
    "    logging.basicConfig(filename='{}.log'.format(orig_func.__name__), level=logging.INFO)\n",
    "\n",
    "    @wraps(orig_func)\n",
    "    def wrapper(*args, **kwargs):\n",
    "        logging.info('Ran with args: {}, and kwargs: {}'.format(args, kwargs))\n",
    "        return orig_func(*args, **kwargs)\n",
    "\n",
    "    return wrapper"
   ]
  },
  {
   "cell_type": "code",
   "execution_count": 63,
   "metadata": {},
   "outputs": [],
   "source": [
    "def my_timer(orig_func):\n",
    "    import time\n",
    "    \n",
    "    @wraps(orig_func)\n",
    "    def wrapper(*args, **kwargs):\n",
    "        t1 = time.time()\n",
    "        result = orig_func(*args, **kwargs)\n",
    "        t2 = time.time() - t1\n",
    "        print('{} ran in: {} sec'.format(orig_func, t2))\n",
    "        return result, t2\n",
    "\n",
    "    return wrapper"
   ]
  },
  {
   "cell_type": "markdown",
   "metadata": {},
   "source": [
    "## Logistische Regression\n",
    "\n",
    "**Teile die Daten in Trainings- und Testset auf.**"
   ]
  },
  {
   "cell_type": "code",
   "execution_count": 64,
   "metadata": {},
   "outputs": [],
   "source": [
    "from sklearn.model_selection import train_test_split"
   ]
  },
  {
   "cell_type": "code",
   "execution_count": 65,
   "metadata": {},
   "outputs": [],
   "source": [
    "X = ad_data[['Daily Time Spent on Site', 'Age', 'Area Income','Daily Internet Usage', 'Male']]\n",
    "y = ad_data['Clicked on Ad']"
   ]
  },
  {
   "cell_type": "code",
   "execution_count": 66,
   "metadata": {},
   "outputs": [],
   "source": [
    "X_train, X_test, y_train, y_test = train_test_split(X, y, test_size=0.33, random_state=42)"
   ]
  },
  {
   "cell_type": "code",
   "execution_count": 67,
   "metadata": {},
   "outputs": [],
   "source": [
    "logmodel = LogisticRegression()"
   ]
  },
  {
   "cell_type": "markdown",
   "metadata": {},
   "source": [
    "**Fitte (trainiere) die Trainingsdaten auf das Modell mit Anwendung von my_logger und my_timer**"
   ]
  },
  {
   "cell_type": "code",
   "execution_count": 68,
   "metadata": {},
   "outputs": [],
   "source": [
    "@my_logger\n",
    "@my_timer\n",
    "def fit(X_train, y_train):\n",
    "    fitted = logmodel.fit(X_train, y_train)\n",
    "    fitted.train_y_predicted = fitted.predict(X_train)\n",
    "    fitted.train_accuracy = np.mean(fitted.train_y_predicted.ravel() == y_train.ravel()) * 100\n",
    "    fitted.train_confusion_matrix = confusion_matrix(y_train, fitted.train_y_predicted)\n",
    "    \n",
    "    return fitted"
   ]
  },
  {
   "cell_type": "markdown",
   "metadata": {},
   "source": [
    "**Predicte (vorhersage) mit den Testdaten mit Anwendung von my_logger und my_timer**"
   ]
  },
  {
   "cell_type": "code",
   "execution_count": 69,
   "metadata": {},
   "outputs": [],
   "source": [
    "@my_logger\n",
    "@my_timer  \n",
    "def predict():\n",
    "    predictions = logmodel\n",
    "    predictions.test_y_predicted = predictions.predict(X_test)\n",
    "    predictions.test_accuracy = np.mean(predictions.test_y_predicted.ravel() == y_test.ravel()) * 100 \n",
    "    predictions.test_confusion_matrix = confusion_matrix(y_test, predictions.test_y_predicted)        \n",
    "    predictions.report = classification_report(y_test, predictions.test_y_predicted)\n",
    "    \n",
    "    return predictions"
   ]
  },
  {
   "cell_type": "markdown",
   "metadata": {},
   "source": [
    "**Das Ergebnis**"
   ]
  },
  {
   "cell_type": "code",
   "execution_count": 70,
   "metadata": {},
   "outputs": [
    {
     "name": "stdout",
     "output_type": "stream",
     "text": [
      "<function fit at 0x000001EC5C100940> ran in: 0.028923988342285156 sec\n",
      "\n",
      "Train Time:  0.028923988342285156 \n",
      "\n",
      "Train Accuracy :  89.70149253731343 \n",
      "\n",
      "Train Confusion Matrix :\n",
      " [[312  26]\n",
      " [ 43 289]]\n",
      "\n",
      "\n",
      "<function predict at 0x000001EC5C081F70> ran in: 0.007013082504272461 sec\n",
      "\n",
      "Test Accuracy :  90.6060606060606 \n",
      "\n",
      "Test Confusion Matrix :\n",
      " [[156   6]\n",
      " [ 25 143]]\n",
      "\n",
      "Classification Report :\n",
      "               precision    recall  f1-score   support\n",
      "\n",
      "           0       0.86      0.96      0.91       162\n",
      "           1       0.96      0.85      0.90       168\n",
      "\n",
      "    accuracy                           0.91       330\n",
      "   macro avg       0.91      0.91      0.91       330\n",
      "weighted avg       0.91      0.91      0.91       330\n",
      "\n",
      "\n",
      "\n"
     ]
    }
   ],
   "source": [
    "fitted, fitted_time = fit(X_train, y_train)\n",
    "print()\n",
    "print('Train Time: ', fitted_time,'\\n')\n",
    "print('Train Accuracy : ', fitted.train_accuracy,'\\n')\n",
    "print('Train Confusion Matrix :\\n %s\\n' % (fitted.train_confusion_matrix))\n",
    "print()\n",
    "    \n",
    "predictions, prediction_time = predict()\n",
    "print()\n",
    "print('Test Accuracy : ', predictions.test_accuracy,'\\n')\n",
    "print('Test Confusion Matrix :\\n %s\\n' % (predictions.test_confusion_matrix))\n",
    "print('Classification Report :\\n %s\\n' % (predictions.report))\n",
    "print()"
   ]
  },
  {
   "cell_type": "markdown",
   "metadata": {},
   "source": [
    "## Anwendung der Testklasse\n",
    "### test_fit(): \n",
    "**Test-Methode für die Trainingswerte**\n",
    "### test_predict(): \n",
    "**Test-Methode für die Vorhersagewerte**"
   ]
  },
  {
   "cell_type": "code",
   "execution_count": 71,
   "metadata": {},
   "outputs": [
    {
     "name": "stderr",
     "output_type": "stream",
     "text": [
      "<ipython-input-71-fa3592f50b35>:22: PendingDeprecationWarning: the matrix subclass is not the recommended way to represent matrices or deal with linear algebra (see https://docs.scipy.org/doc/numpy/user/numpy-for-matlab-users.html). Please adjust your code to use regular ndarray.\n",
      "  self.train_confusion_matrix = np.matrix([[312, 26],\n",
      "<ipython-input-71-fa3592f50b35>:27: PendingDeprecationWarning: the matrix subclass is not the recommended way to represent matrices or deal with linear algebra (see https://docs.scipy.org/doc/numpy/user/numpy-for-matlab-users.html). Please adjust your code to use regular ndarray.\n",
      "  self.test_confusion_matrix = np.matrix([[156, 6],\n",
      "C:\\Users\\bilgi\\anaconda3\\lib\\site-packages\\sklearn\\linear_model\\_base.py:309: DeprecationWarning: `np.int` is a deprecated alias for the builtin `int`. To silence this warning, use `int` by itself. Doing this will not modify any behavior and is safe. When replacing `np.int`, you may wish to use e.g. `np.int64` or `np.int32` to specify the precision. If you wish to review your current use, check the release note link for additional information.\n",
      "Deprecated in NumPy 1.20; for more details and guidance: https://numpy.org/devdocs/release/1.20.0-notes.html#deprecations\n",
      "  indices = (scores > 0).astype(np.int)\n",
      ".<ipython-input-71-fa3592f50b35>:22: PendingDeprecationWarning: the matrix subclass is not the recommended way to represent matrices or deal with linear algebra (see https://docs.scipy.org/doc/numpy/user/numpy-for-matlab-users.html). Please adjust your code to use regular ndarray.\n",
      "  self.train_confusion_matrix = np.matrix([[312, 26],\n",
      "<ipython-input-71-fa3592f50b35>:27: PendingDeprecationWarning: the matrix subclass is not the recommended way to represent matrices or deal with linear algebra (see https://docs.scipy.org/doc/numpy/user/numpy-for-matlab-users.html). Please adjust your code to use regular ndarray.\n",
      "  self.test_confusion_matrix = np.matrix([[156, 6],\n",
      "C:\\Users\\bilgi\\anaconda3\\lib\\site-packages\\sklearn\\linear_model\\_base.py:309: DeprecationWarning: `np.int` is a deprecated alias for the builtin `int`. To silence this warning, use `int` by itself. Doing this will not modify any behavior and is safe. When replacing `np.int`, you may wish to use e.g. `np.int64` or `np.int32` to specify the precision. If you wish to review your current use, check the release note link for additional information.\n",
      "Deprecated in NumPy 1.20; for more details and guidance: https://numpy.org/devdocs/release/1.20.0-notes.html#deprecations\n",
      "  indices = (scores > 0).astype(np.int)\n",
      "C:\\Users\\bilgi\\anaconda3\\lib\\site-packages\\sklearn\\linear_model\\_base.py:309: DeprecationWarning: `np.int` is a deprecated alias for the builtin `int`. To silence this warning, use `int` by itself. Doing this will not modify any behavior and is safe. When replacing `np.int`, you may wish to use e.g. `np.int64` or `np.int32` to specify the precision. If you wish to review your current use, check the release note link for additional information.\n",
      "Deprecated in NumPy 1.20; for more details and guidance: https://numpy.org/devdocs/release/1.20.0-notes.html#deprecations\n",
      "  indices = (scores > 0).astype(np.int)\n",
      "."
     ]
    },
    {
     "name": "stdout",
     "output_type": "stream",
     "text": [
      "setUp\n",
      "<function fit at 0x000001EC5C100940> ran in: 0.02892899513244629 sec\n",
      "\n",
      "Train Time:  0.026003599166870117 \n",
      "\n",
      "Modified Train Time:  0.03120431900024414 \n",
      "\n",
      "Unittest Train Time:  0.02892899513244629 \n",
      "\n",
      "setUp\n",
      "<function fit at 0x000001EC5C100940> ran in: 0.023935794830322266 sec\n",
      "<function predict at 0x000001EC5C081F70> ran in: 0.006979703903198242 sec\n",
      "\n",
      "Test Accuracy :  90.6060606060606 \n",
      "\n",
      "Unit Test Accuracy :  90.6060606060606 \n",
      "\n",
      "Test Confusion Matrix :\n",
      " [[156   6]\n",
      " [ 25 143]]\n",
      "\n",
      "Unit Test Confusion Matrix :\n",
      " [[156   6]\n",
      " [ 25 143]]\n",
      "\n"
     ]
    },
    {
     "name": "stderr",
     "output_type": "stream",
     "text": [
      "\n",
      "----------------------------------------------------------------------\n",
      "Ran 2 tests in 0.097s\n",
      "\n",
      "OK\n"
     ]
    }
   ],
   "source": [
    "class TestInput(unittest.TestCase):\n",
    "  \n",
    "    @classmethod\n",
    "    def setUpClass(cls):\n",
    "        # print('setupClass')   \n",
    "        pass\n",
    "\n",
    "    @classmethod\n",
    "    def tearDownClass(cls): \n",
    "        # print('teardownClass')\n",
    "        pass\n",
    "\n",
    "    def setUp(self):\n",
    "        print('setUp')\n",
    "        \n",
    "        X = ad_data[['Daily Time Spent on Site', 'Age', 'Area Income','Daily Internet Usage', 'Male']]\n",
    "        y = ad_data['Clicked on Ad']\n",
    "        \n",
    "        X_train, X_test, y_train, y_test = train_test_split(X, y, test_size=0.33, random_state=42)\n",
    "        \n",
    "        self.train_accuracy = 89.70149253731343\n",
    "        self.train_confusion_matrix = np.matrix([[312, 26],\n",
    "                                                 [43, 289]])\n",
    "        self.train_runningtime = 0.026003599166870117\n",
    "        \n",
    "        self.test_accuracy = 90.6060606060606\n",
    "        self.test_confusion_matrix = np.matrix([[156, 6],\n",
    "                                                [25, 143]])\n",
    "\n",
    "    def tearDown(self):\n",
    "        # print('tearDown')\n",
    "        pass\n",
    "    \n",
    "    \n",
    "    def test_fit(self):     \n",
    "        self.fitted, self.time = fit(X_train, y_train)\n",
    "        self.assertEqual(self.fitted.train_accuracy, self.train_accuracy)\n",
    "        self.assertEqual(self.fitted.train_confusion_matrix.tolist(), self.train_confusion_matrix.tolist())\n",
    "        \n",
    "        self.modified_train_runningtime = self.train_runningtime * 1.2\n",
    "        self.assertLessEqual(self.time, self.modified_train_runningtime)\n",
    "        \n",
    "        print('\\n' + 'Train Time: ', self.train_runningtime,'\\n')\n",
    "        print('Modified Train Time: ', self.modified_train_runningtime,'\\n')\n",
    "        print('Unittest Train Time: ', self.time,'\\n')\n",
    "        \n",
    "        with open(\"Testdatenfile_Fit.txt\", \"w\") as text_file:\n",
    "            print('Train Time: ', self.train_runningtime,'\\n' + \n",
    "                  'Modified Train Time: ', self.modified_train_runningtime,'\\n' +\n",
    "                  'Unittest Train Time: ', self.time,'\\n',\n",
    "                  file=text_file)\n",
    "\n",
    "            \n",
    "    def test_predict(self):\n",
    "        self.fitted, self.time = fit(X_train, y_train)\n",
    "        self.predicted, self.prediction_time = predict()\n",
    "        self.assertEqual(self.predicted.test_accuracy, self.test_accuracy)\n",
    "        self.assertEqual(self.fitted.test_confusion_matrix.tolist(), self.test_confusion_matrix.tolist())\n",
    "        \n",
    "        print('\\n' + 'Test Accuracy : ', self.predicted.test_accuracy,'\\n')\n",
    "        print('Unit Test Accuracy : ', self.test_accuracy,'\\n')\n",
    "        print('Test Confusion Matrix :\\n %s\\n' % (self.predicted.test_confusion_matrix))\n",
    "        print('Unit Test Confusion Matrix :\\n %s\\n' % (self.test_confusion_matrix))\n",
    "        \n",
    "        with open(\"Testdatenfile_Predict.txt\", \"w\") as text_file:\n",
    "            print('Test Accuracy : ', self.predicted.test_accuracy,'\\n' + \n",
    "                  'Unit Test Accuracy : ', self.test_accuracy,'\\n' + \n",
    "                  'Test Confusion Matrix :\\n %s\\n' % (self.predicted.test_confusion_matrix) +\n",
    "                  'Unit Test Confusion Matrix :\\n %s\\n' % (self.test_confusion_matrix),\n",
    "                  file=text_file)\n",
    "\n",
    "            \n",
    "if __name__ == '__main__':\n",
    "  \n",
    "    #run tests \n",
    "    unittest.main(argv=['first-arg-is-ignored'], exit=False)"
   ]
  }
 ],
 "metadata": {
  "kernelspec": {
   "display_name": "Python 3",
   "language": "python",
   "name": "python3"
  },
  "language_info": {
   "codemirror_mode": {
    "name": "ipython",
    "version": 3
   },
   "file_extension": ".py",
   "mimetype": "text/x-python",
   "name": "python",
   "nbconvert_exporter": "python",
   "pygments_lexer": "ipython3",
   "version": "3.8.5"
  }
 },
 "nbformat": 4,
 "nbformat_minor": 2
}
